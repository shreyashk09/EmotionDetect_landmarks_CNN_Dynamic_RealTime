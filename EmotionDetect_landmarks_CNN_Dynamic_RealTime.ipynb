{
 "cells": [
  {
   "cell_type": "code",
   "execution_count": 1,
   "metadata": {},
   "outputs": [
    {
     "name": "stderr",
     "output_type": "stream",
     "text": [
      "Using TensorFlow backend.\n"
     ]
    }
   ],
   "source": [
    "#dependencies\n",
    "import numpy as np\n",
    "import cv2\n",
    "import pandas as pd\n",
    "import matplotlib.pyplot as plt\n",
    "from keras.utils import np_utils\n",
    "from keras.models import Sequential, Model, model_from_json\n",
    "from keras.layers import Conv2D, Activation, MaxPool2D, Dropout, Dense, BatchNormalization, Flatten\n",
    "from keras.callbacks import ModelCheckpoint\n",
    "import tarfile\n",
    "import dlib\n",
    "import time\n",
    "from os import *\n",
    "from os.path import isfile, join"
   ]
  },
  {
   "cell_type": "code",
   "execution_count": null,
   "metadata": {
    "collapsed": true
   },
   "outputs": [],
   "source": [
    "o_Dir = \"data_landmarks\"\n",
    "dataset_jaffe = \"jaffe\"\n",
    "if not os.path.exists(o_Dir):\n",
    "    print \"Making data_landmark directory\"\n",
    "    os.mkdir(o_Dir)\n",
    "else:\n",
    "    print \"Output directory already exists\"\n",
    "file = []\n",
    "for (dirpath, dirnames, filenames) in walk(dataset_jaffe):\n",
    "    file.extend(filenames)\n",
    "    break"
   ]
  },
  {
   "cell_type": "code",
   "execution_count": null,
   "metadata": {
    "collapsed": true
   },
   "outputs": [],
   "source": [
    "#Set up some required objects\n",
    "video_capture = cv2.VideoCapture(0) #Webcam object\n",
    "#detector = dlib.get_frontal_face_detector() #Face detector\n",
    "predictor = dlib.shape_predictor(\"shape_predictor_68_face_landmarks.dat\") #Landmark identifier. Set the filename to whatever you named the downloaded file\n",
    "###\n",
    "ap = argparse.ArgumentParser()\n",
    "ap.add_argument(\"-c\", \"--cascade\", required=True, help = \"haarcascade_frontalface_default.xml\")\n",
    "#ap.add_argument(\"-p\", \"--shape-predictor\", required=True, help=\"path to facial landmark predictor\")\n",
    "args = vars(ap.parse_args())\n",
    "\n",
    "detector = cv2.CascadeClassifier(args[\"cascade\"])\n",
    "#predictor = dlib.shape_predictor(args[\"shape_predictor\"])\n",
    "\n",
    "#facec = cv2.CascadeClassifier('haarcascade_frontalface_default.xml')\n",
    "\n",
    "fno=0\n",
    "detections=()\n",
    "while True:\n",
    "    ret, frame = video_capture.read()\n",
    "    #frame=cv2.imread('a.jpg',1)\n",
    "    fno+=1;\n",
    "    if(False):\n",
    "        pass\n",
    "    else:\n",
    "        print(fno)\n",
    "        gray = cv2.cvtColor(frame, cv2.COLOR_BGR2GRAY)\n",
    "        \n",
    "        clahe = cv2.createCLAHE(clipLimit=2.0, tileGridSize=(8,8))\n",
    "        clahe_image = clahe.apply(gray)\n",
    "        #faces = facec.detectMultiScale(clache_image, 1.3, 5)\n",
    "        # for (x, y, w, h) in faces:\n",
    "         #   fc = gray_fr[y:y+h, x:x+w]\n",
    "          #  roi = cv2.resize(fc, (48, 48))\n",
    "        detections = detector(clahe_image, 1) #Detect the faces in the image\n",
    "        #print(detections)\n",
    "    for k,d in enumerate(detections): #For each detected face\n",
    "        shape = predictor(clahe_image, d) #Get coordinates\n",
    "        for i in range(1,68): #There are 68 landmark points on each face\n",
    "            cv2.circle(frame, (shape.part(i).x, shape.part(i).y), 1, (0,0,255), thickness=2) #For each point, draw a red circle with thickness2 on the original frame\n",
    "    cv2.imshow(\"image\", frame) #Display the frame\n",
    "    \n",
    "    if cv2.waitKey(1) == 27: #Exit program when the user presses 'q'\n",
    "        break"
   ]
  }
 ],
 "metadata": {
  "kernelspec": {
   "display_name": "Python 3",
   "language": "python",
   "name": "python3"
  },
  "language_info": {
   "codemirror_mode": {
    "name": "ipython",
    "version": 3
   },
   "file_extension": ".py",
   "mimetype": "text/x-python",
   "name": "python",
   "nbconvert_exporter": "python",
   "pygments_lexer": "ipython3",
   "version": "3.6.3"
  }
 },
 "nbformat": 4,
 "nbformat_minor": 2
}
